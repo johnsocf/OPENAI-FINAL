{
 "cells": [
  {
   "cell_type": "markdown",
   "metadata": {},
   "source": [
    "## Algorithm Design"
   ]
  },
  {
   "cell_type": "markdown",
   "metadata": {},
   "source": [
    "### CNN"
   ]
  },
  {
   "cell_type": "code",
   "execution_count": 15,
   "metadata": {},
   "outputs": [],
   "source": [
    "def cnn_model():\n",
    "    return None"
   ]
  },
  {
   "cell_type": "markdown",
   "metadata": {},
   "source": [
    "### Initialization Methods"
   ]
  },
  {
   "cell_type": "code",
   "execution_count": 16,
   "metadata": {},
   "outputs": [],
   "source": [
    "def init_test_config():\n",
    "    env = gym.make('BreakoutDeterministic-v4')\n",
    "    player_games = 0\n",
    "    episode_number = 0\n",
    "    epsilon = 0.001\n",
    "    global_step = NUM_OBSERVABLE_STEPS + 1\n",
    "    model = load_model(LOGS_FILE_PATH, custom_objects={'huber_loss': huber_loss})\n",
    "    return (env, player_games, episode_number, epsilon, global_step, model)\n",
    "\n",
    "def init_model_clone(model):\n",
    "    # Copy model since actual model weights will get updated later TODO.  when?\n",
    "    # Clone model using keras api function.\n",
    "    model_clone = clone_model(model)\n",
    "    # Clone model weights to new model separately\n",
    "    model_clone.set_weights(model.get_weights())\n",
    "    return model_clone\n",
    "\n",
    "def init_config():\n",
    "    env = gym.make('BreakoutDeterministic-v4')\n",
    "    # Deque is imported from collections.  Set to a finite size.  New memory will overwrite old.\n",
    "    memory = deque(maxlen=400000)\n",
    "    # init\n",
    "    epsilon = 1.0\n",
    "    # Calc decay rate.\n",
    "    epsilon_decay = ((1.0 - 0.1) / 1000000)\n",
    "    total_steps = 0\n",
    "    # Init at 0.\n",
    "    player_game = 0\n",
    "    return (env, memory, epsilon, epsilon_decay, total_steps, player_game)\n",
    "\n",
    "def init_game_config():\n",
    "    done = False\n",
    "    dead = False\n",
    "    game_step = 0\n",
    "    game_score = 0\n",
    "    game_lives = 5\n",
    "    game_loss = 0.0\n",
    "    return (done, dead, game_step, game_score, game_lives, game_loss)\n"
   ]
  },
  {
   "cell_type": "markdown",
   "metadata": {},
   "source": [
    "### Helper Methods"
   ]
  },
  {
   "cell_type": "code",
   "execution_count": null,
   "metadata": {},
   "outputs": [],
   "source": [
    "# Action is random if it is an observed state or if by chance based on the epsilon threshold, it is.\n",
    "# If action is not random it gets generated from the current model based on history data to this point.\n",
    "# I select the best action from this result.\n",
    "def get_action(history, epsilon, model, is_in_observed_state):\n",
    "    # is_in_observed_state = (step <= 1000)\n",
    "    # is_in_observed_state = (step <= NUM_OBSERVABLE_STEPS)\n",
    "    rand_choice_is_under_epsilon_threshold = (np.random.rand() <= epsilon)\n",
    "    if rand_choice_is_under_epsilon_threshold or is_in_observed_state:\n",
    "    #if is_in_observed_state:\n",
    "        return random.randrange(ACTION_OPTION_COUNT)\n",
    "    else:\n",
    "        q_value = model.predict([history, np.ones(ACTION_SIZE).reshape(1, ACTION_SIZE)])\n",
    "        #q_value = model.predict([history, get_one_hot_encoded_action_mask()()])\n",
    "    # Offset for 0 indexing of one-hot encoding array location of value\n",
    "    return np.argmax(q_value[0]) + 1\n",
    "\n",
    "def update_epsilon(total_steps, epsilon, epsilon_decay):\n",
    "    training = (total_steps > NUM_OBSERVABLE_STEPS)\n",
    "    epsilon_declining = epsilon > 0.1\n",
    "    if epsilon_declining and training:\n",
    "        epsilon -= epsilon_decay\n",
    "    return epsilon\n"
   ]
  },
  {
   "cell_type": "markdown",
   "metadata": {},
   "source": [
    "### Debugging Method\n",
    "It is not necessary to run this but the training is so long it is useful to check in on how it is performing.\n",
    "Some iterative logging function should be run in case the model quits while the programmer is sleeping or something."
   ]
  },
  {
   "cell_type": "markdown",
   "metadata": {},
   "source": [
    "### Deep Q-Network Method"
   ]
  },
  {
   "cell_type": "markdown",
   "metadata": {},
   "source": [
    "### Training Method"
   ]
  },
  {
   "cell_type": "code",
   "execution_count": 27,
   "metadata": {},
   "outputs": [],
   "source": [
    "# # Mostly this function keeps track of system states, memory, and flags\n",
    "# # It provides the opportunity to create logs for debugging\n",
    "# # Most importantly it takes an action and updates a score.\n",
    "# # It runs training on the model if all observation has been done.  This is Deep Q Learning.\n",
    "def train():\n",
    "    # Initialize global states.\n",
    "    env, memory, epsilon, epsilon_decay, total_steps, player_games = init_config()\n",
    "    # Initialize storage for collecting data on model performance.\n",
    "    total_score = 0\n",
    "    avg_game_scores = []\n",
    "    # Get a copy of the cnn model with the architecture defined in a separate function.\n",
    "    # model = cnn_model()\n",
    "    # Initialize file writer for logging.  \n",
    "    \n",
    "    # The main model gets used in the Q learning training, and based on updated weights, \n",
    "    # then also updates the model clone.  \n",
    "    # Targeted Network update.\n",
    "    # model_clone = init_model_clone(model)\n",
    "    \n",
    "    # This is just a loop to cover the range of the global number of games played.\n",
    "    # The player games number is kept visible to the program for logging purposes.\n",
    "    while player_games < NUM_TURNS:\n",
    "        # Define global game states.\n",
    "        game_done, player_dead, game_step, game_score, game_lives, game_loss = init_game_config()\n",
    "        # Reset the environment at the beginning of each game.\n",
    "        observe = env.reset()\n",
    "\n",
    "        # Prefill the start state, 4 frames.\n",
    "        for _ in range(random.randint(1, INIT_NO_OP_STEPS)):\n",
    "            observe, _, _, _ = env.step(1)\n",
    "        # TODO\n",
    "\n",
    "        while not game_done:\n",
    "            \n",
    "            # Epsilon has to decay a tiny bit with each iteration in the annealing method.\n",
    "            epsilon = update_epsilon(total_steps, epsilon, epsilon_decay)\n",
    "\n",
    "            # Get an action\n",
    "            action = get_action(history, epsilon, model_clone, is_in_observed_state)\n",
    "\n",
    "            # Take a step in the game\n",
    "            observed_state, reward, game_done, info = env.step(action)\n",
    "            \n",
    "            # Update score based on agent action.\n",
    "            game_score += game_reward\n",
    "            \n",
    "            # Preprocess result state image data and merge result state with history.\n",
    "            \n",
    "            # Update memory.\n",
    "            memory.append((history, action, reward, next_history, player_dead))\n",
    "            \n",
    "            # Deep Q learning begins if the observational state is complete.\n",
    "            # When the model has sufficiently recorded enough memory for training, start batch training.\n",
    "            \n",
    "            # Update counts and state flags.\n",
    "            player_dead = False\n",
    "            # These are used more of less for logging and aren't too important to the system.\n",
    "            total_steps += 1\n",
    "            game_step += 1\n",
    "            \n",
    "            if game_done:\n",
    "                total_score += game_score\n",
    "                player_games += 1\n",
    "                # update average game score log\n",
    "                if total_steps % 100 == 0:\n",
    "                    avg_game_score = total_score/100\n",
    "                    avg_game_scores = avg_game_scores + avg_game_score\n",
    "                    total_score = 0\n",
    "    file_writer.close()\n",
    "    return avg_game_scores\n",
    "\n"
   ]
  },
  {
   "cell_type": "markdown",
   "metadata": {},
   "source": [
    "### Test Method"
   ]
  },
  {
   "cell_type": "code",
   "execution_count": 28,
   "metadata": {},
   "outputs": [],
   "source": [
    "def test():\n",
    "    env, player_games, episode_number, epsilon, global_step, model = init_test_config()\n",
    "    \n",
    "    while player_games < NUM_TURNS:\n",
    "        # init variables\n",
    "       \n",
    "        # Copy in initial states to amount to initial four frame history\n",
    "        while not done:\n",
    "            if RENDER:\n",
    "                env.render()\n",
    "                time.sleep(0.01)\n",
    "                \n",
    "            # Get action.\n",
    "            action = get_action(history, epsilon, global_step, model)\n",
    "            \n",
    "            # Update epsilon.\n",
    "            epsilon = update_epsilon(player_games, epsilon, epsilon_decay)\n",
    "\n",
    "            # Take a step in the game.\n",
    "            observed_state, reward, done, info = env.step(action)\n",
    "            \n",
    "            # Preprocess state to reduce image size, grayscale, and merge it with the history.\n",
    "            next_state, next_history = find_state_and_history(observed_state)\n",
    "\n",
    "            # Update Reward\n",
    "            game_score += game_reward\n",
    "\n",
    "            # Update counts and state flags.\n",
    "            dead = False\n",
    "            # This is used more of less for logging and aren't too important to the system.\n",
    "            game_step += 1\n",
    "            \n",
    "            if game_done:\n",
    "                player_games += 1\n",
    "                print('Games Played: ', player_games)\n",
    "                print('Score: ', game_score)\n"
   ]
  },
  {
   "cell_type": "markdown",
   "metadata": {},
   "source": [
    "## Implementation"
   ]
  },
  {
   "cell_type": "markdown",
   "metadata": {},
   "source": [
    "### Imports"
   ]
  },
  {
   "cell_type": "code",
   "execution_count": 29,
   "metadata": {},
   "outputs": [],
   "source": [
    "%%capture\n",
    "import gym\n",
    "import random\n",
    "import numpy as np\n",
    "import tensorflow as tf\n",
    "\n",
    "from collections import deque\n",
    "import os.path\n",
    "import matplotlib.pyplot as plt"
   ]
  },
  {
   "cell_type": "markdown",
   "metadata": {},
   "source": [
    "### Constants"
   ]
  },
  {
   "cell_type": "code",
   "execution_count": 30,
   "metadata": {},
   "outputs": [],
   "source": [
    "TRAIN_DIR = 'openai_breakout_training_storage'\n",
    "LOGS_FILE_PATH = '/Users/catherinejohnson/Downloads/Project Announcement-20201115/openai_breakout_training_storage/training_20201128034747.h5'\n",
    "# suggested by Deep Mind Paper\n",
    "NUM_TURNS = 1000\n",
    "#NUM_TURNS = 100000\n",
    "# suggested by Deep Mind Paper\n",
    "NUM_OBSERVABLE_STEPS = 500\n",
    "# NUM_OBSERVABLE_STEPS = 50000\n",
    "MODEL_WEIGHTS_REFRESH_THRESOLD = 100\n",
    "# MODEL_WEIGHTS_REFRESH_THRESOLD = 10000\n",
    "# suggested by Deep Mind Paper\n",
    "INIT_NO_OP_STEPS = 10\n",
    "# INIT_NO_OP_STEPS = 30\n",
    "REGULATION_SCALE = 0.01\n",
    "# suggested by Deep Mind Paper\n",
    "BATCH_SIZE = 32\n",
    "LEARNING_RATE = 0.00025\n",
    "GAMMA = 0.99\n",
    "# suggested by Deep Mind Paper\n",
    "ATARI_IMAGE_SHAPE = (84, 84, 4)\n",
    "\n",
    "# suggested by Deep Mind Paper\n",
    "LAYER_1_SIZE = 16\n",
    "LAYER_1_FILTER = (8, 8)\n",
    "LAYER_1_STRIDES = (4, 4)\n",
    "LAYER_2_SIZE = 32\n",
    "LAYER_2_FILTER = (4, 4)\n",
    "LAYER_2_STRIDES = (2, 2)\n",
    "ACTIVATION_FUNCTION = 'relu'"
   ]
  },
  {
   "cell_type": "code",
   "execution_count": 31,
   "metadata": {},
   "outputs": [
    {
     "ename": "TypeError",
     "evalue": "only size-1 arrays can be converted to Python scalars",
     "output_type": "error",
     "traceback": [
      "\u001b[0;31m---------------------------------------------------------------------------\u001b[0m",
      "\u001b[0;31mTypeError\u001b[0m                                 Traceback (most recent call last)",
      "\u001b[0;32m<ipython-input-31-49ff00e3af56>\u001b[0m in \u001b[0;36m<module>\u001b[0;34m()\u001b[0m\n\u001b[0;32m----> 1\u001b[0;31m \u001b[0mavg_game_scores_sesh\u001b[0m \u001b[0;34m=\u001b[0m \u001b[0mtrain\u001b[0m\u001b[0;34m(\u001b[0m\u001b[0;34m)\u001b[0m\u001b[0;34m\u001b[0m\u001b[0;34m\u001b[0m\u001b[0m\n\u001b[0m",
      "\u001b[0;32m<ipython-input-27-6d706a3d8792>\u001b[0m in \u001b[0;36mtrain\u001b[0;34m()\u001b[0m\n\u001b[1;32m     40\u001b[0m \u001b[0;34m\u001b[0m\u001b[0m\n\u001b[1;32m     41\u001b[0m             \u001b[0;31m# Take a step in the game\u001b[0m\u001b[0;34m\u001b[0m\u001b[0;34m\u001b[0m\u001b[0;34m\u001b[0m\u001b[0m\n\u001b[0;32m---> 42\u001b[0;31m             \u001b[0mobserved_state\u001b[0m\u001b[0;34m,\u001b[0m \u001b[0mreward\u001b[0m\u001b[0;34m,\u001b[0m \u001b[0mgame_done\u001b[0m\u001b[0;34m,\u001b[0m \u001b[0minfo\u001b[0m \u001b[0;34m=\u001b[0m \u001b[0menv\u001b[0m\u001b[0;34m.\u001b[0m\u001b[0mstep\u001b[0m\u001b[0;34m(\u001b[0m\u001b[0maction\u001b[0m\u001b[0;34m)\u001b[0m\u001b[0;34m\u001b[0m\u001b[0;34m\u001b[0m\u001b[0m\n\u001b[0m\u001b[1;32m     43\u001b[0m \u001b[0;34m\u001b[0m\u001b[0m\n\u001b[1;32m     44\u001b[0m             \u001b[0;31m# Update score based on agent action.\u001b[0m\u001b[0;34m\u001b[0m\u001b[0;34m\u001b[0m\u001b[0;34m\u001b[0m\u001b[0m\n",
      "\u001b[0;32m/Users/catherinejohnson/anaconda3/envs/tensorflow_env/lib/python3.6/site-packages/gym/wrappers/time_limit.py\u001b[0m in \u001b[0;36mstep\u001b[0;34m(self, action)\u001b[0m\n\u001b[1;32m     14\u001b[0m     \u001b[0;32mdef\u001b[0m \u001b[0mstep\u001b[0m\u001b[0;34m(\u001b[0m\u001b[0mself\u001b[0m\u001b[0;34m,\u001b[0m \u001b[0maction\u001b[0m\u001b[0;34m)\u001b[0m\u001b[0;34m:\u001b[0m\u001b[0;34m\u001b[0m\u001b[0;34m\u001b[0m\u001b[0m\n\u001b[1;32m     15\u001b[0m         \u001b[0;32massert\u001b[0m \u001b[0mself\u001b[0m\u001b[0;34m.\u001b[0m\u001b[0m_elapsed_steps\u001b[0m \u001b[0;32mis\u001b[0m \u001b[0;32mnot\u001b[0m \u001b[0;32mNone\u001b[0m\u001b[0;34m,\u001b[0m \u001b[0;34m\"Cannot call env.step() before calling reset()\"\u001b[0m\u001b[0;34m\u001b[0m\u001b[0;34m\u001b[0m\u001b[0m\n\u001b[0;32m---> 16\u001b[0;31m         \u001b[0mobservation\u001b[0m\u001b[0;34m,\u001b[0m \u001b[0mreward\u001b[0m\u001b[0;34m,\u001b[0m \u001b[0mdone\u001b[0m\u001b[0;34m,\u001b[0m \u001b[0minfo\u001b[0m \u001b[0;34m=\u001b[0m \u001b[0mself\u001b[0m\u001b[0;34m.\u001b[0m\u001b[0menv\u001b[0m\u001b[0;34m.\u001b[0m\u001b[0mstep\u001b[0m\u001b[0;34m(\u001b[0m\u001b[0maction\u001b[0m\u001b[0;34m)\u001b[0m\u001b[0;34m\u001b[0m\u001b[0;34m\u001b[0m\u001b[0m\n\u001b[0m\u001b[1;32m     17\u001b[0m         \u001b[0mself\u001b[0m\u001b[0;34m.\u001b[0m\u001b[0m_elapsed_steps\u001b[0m \u001b[0;34m+=\u001b[0m \u001b[0;36m1\u001b[0m\u001b[0;34m\u001b[0m\u001b[0;34m\u001b[0m\u001b[0m\n\u001b[1;32m     18\u001b[0m         \u001b[0;32mif\u001b[0m \u001b[0mself\u001b[0m\u001b[0;34m.\u001b[0m\u001b[0m_elapsed_steps\u001b[0m \u001b[0;34m>=\u001b[0m \u001b[0mself\u001b[0m\u001b[0;34m.\u001b[0m\u001b[0m_max_episode_steps\u001b[0m\u001b[0;34m:\u001b[0m\u001b[0;34m\u001b[0m\u001b[0;34m\u001b[0m\u001b[0m\n",
      "\u001b[0;32m/Users/catherinejohnson/anaconda3/envs/tensorflow_env/lib/python3.6/site-packages/gym/envs/atari/atari_env.py\u001b[0m in \u001b[0;36mstep\u001b[0;34m(self, a)\u001b[0m\n\u001b[1;32m    118\u001b[0m             \u001b[0mnum_steps\u001b[0m \u001b[0;34m=\u001b[0m \u001b[0mself\u001b[0m\u001b[0;34m.\u001b[0m\u001b[0mnp_random\u001b[0m\u001b[0;34m.\u001b[0m\u001b[0mrandint\u001b[0m\u001b[0;34m(\u001b[0m\u001b[0mself\u001b[0m\u001b[0;34m.\u001b[0m\u001b[0mframeskip\u001b[0m\u001b[0;34m[\u001b[0m\u001b[0;36m0\u001b[0m\u001b[0;34m]\u001b[0m\u001b[0;34m,\u001b[0m \u001b[0mself\u001b[0m\u001b[0;34m.\u001b[0m\u001b[0mframeskip\u001b[0m\u001b[0;34m[\u001b[0m\u001b[0;36m1\u001b[0m\u001b[0;34m]\u001b[0m\u001b[0;34m)\u001b[0m\u001b[0;34m\u001b[0m\u001b[0;34m\u001b[0m\u001b[0m\n\u001b[1;32m    119\u001b[0m         \u001b[0;32mfor\u001b[0m \u001b[0m_\u001b[0m \u001b[0;32min\u001b[0m \u001b[0mrange\u001b[0m\u001b[0;34m(\u001b[0m\u001b[0mnum_steps\u001b[0m\u001b[0;34m)\u001b[0m\u001b[0;34m:\u001b[0m\u001b[0;34m\u001b[0m\u001b[0;34m\u001b[0m\u001b[0m\n\u001b[0;32m--> 120\u001b[0;31m             \u001b[0mreward\u001b[0m \u001b[0;34m+=\u001b[0m \u001b[0mself\u001b[0m\u001b[0;34m.\u001b[0m\u001b[0male\u001b[0m\u001b[0;34m.\u001b[0m\u001b[0mact\u001b[0m\u001b[0;34m(\u001b[0m\u001b[0maction\u001b[0m\u001b[0;34m)\u001b[0m\u001b[0;34m\u001b[0m\u001b[0;34m\u001b[0m\u001b[0m\n\u001b[0m\u001b[1;32m    121\u001b[0m         \u001b[0mob\u001b[0m \u001b[0;34m=\u001b[0m \u001b[0mself\u001b[0m\u001b[0;34m.\u001b[0m\u001b[0m_get_obs\u001b[0m\u001b[0;34m(\u001b[0m\u001b[0;34m)\u001b[0m\u001b[0;34m\u001b[0m\u001b[0;34m\u001b[0m\u001b[0m\n\u001b[1;32m    122\u001b[0m \u001b[0;34m\u001b[0m\u001b[0m\n",
      "\u001b[0;32m/Users/catherinejohnson/anaconda3/envs/tensorflow_env/lib/python3.6/site-packages/atari_py/ale_python_interface.py\u001b[0m in \u001b[0;36mact\u001b[0;34m(self, action)\u001b[0m\n\u001b[1;32m    150\u001b[0m \u001b[0;34m\u001b[0m\u001b[0m\n\u001b[1;32m    151\u001b[0m     \u001b[0;32mdef\u001b[0m \u001b[0mact\u001b[0m\u001b[0;34m(\u001b[0m\u001b[0mself\u001b[0m\u001b[0;34m,\u001b[0m \u001b[0maction\u001b[0m\u001b[0;34m)\u001b[0m\u001b[0;34m:\u001b[0m\u001b[0;34m\u001b[0m\u001b[0;34m\u001b[0m\u001b[0m\n\u001b[0;32m--> 152\u001b[0;31m         \u001b[0;32mreturn\u001b[0m \u001b[0male_lib\u001b[0m\u001b[0;34m.\u001b[0m\u001b[0mact\u001b[0m\u001b[0;34m(\u001b[0m\u001b[0mself\u001b[0m\u001b[0;34m.\u001b[0m\u001b[0mobj\u001b[0m\u001b[0;34m,\u001b[0m \u001b[0mint\u001b[0m\u001b[0;34m(\u001b[0m\u001b[0maction\u001b[0m\u001b[0;34m)\u001b[0m\u001b[0;34m)\u001b[0m\u001b[0;34m\u001b[0m\u001b[0;34m\u001b[0m\u001b[0m\n\u001b[0m\u001b[1;32m    153\u001b[0m \u001b[0;34m\u001b[0m\u001b[0m\n\u001b[1;32m    154\u001b[0m     \u001b[0;32mdef\u001b[0m \u001b[0mgame_over\u001b[0m\u001b[0;34m(\u001b[0m\u001b[0mself\u001b[0m\u001b[0;34m)\u001b[0m\u001b[0;34m:\u001b[0m\u001b[0;34m\u001b[0m\u001b[0;34m\u001b[0m\u001b[0m\n",
      "\u001b[0;31mTypeError\u001b[0m: only size-1 arrays can be converted to Python scalars"
     ]
    }
   ],
   "source": [
    "avg_game_scores_sesh = train()"
   ]
  },
  {
   "cell_type": "code",
   "execution_count": 32,
   "metadata": {},
   "outputs": [
    {
     "ename": "SyntaxError",
     "evalue": "invalid syntax (<ipython-input-32-b7186f13edb0>, line 3)",
     "output_type": "error",
     "traceback": [
      "\u001b[0;36m  File \u001b[0;32m\"<ipython-input-32-b7186f13edb0>\"\u001b[0;36m, line \u001b[0;32m3\u001b[0m\n\u001b[0;31m    plt.plot([i for i, v enumerate(avg_game_scores_sesh)])\u001b[0m\n\u001b[0m                                 ^\u001b[0m\n\u001b[0;31mSyntaxError\u001b[0m\u001b[0;31m:\u001b[0m invalid syntax\n"
     ]
    }
   ],
   "source": [
    "plt.plot(avg_game_scores_sesh)\n",
    "print(avg_game_scores_sesh)\n",
    "plt.plot([i for i, v enumerate(avg_game_scores_sesh)])\n",
    "plt.title('plot')\n",
    "plt.ylabel('avg scores')\n",
    "plt.xlabel('time')\n",
    "# plt.legend(['train', 'test'], loc='upper left')\n",
    "plt.show()"
   ]
  },
  {
   "cell_type": "code",
   "execution_count": null,
   "metadata": {},
   "outputs": [],
   "source": [
    "# manually update file in RESTORE_FILE_PATH for testing.\n",
    "test()"
   ]
  }
 ],
 "metadata": {
  "kernelspec": {
   "display_name": "Python 3",
   "language": "python",
   "name": "python3"
  },
  "language_info": {
   "codemirror_mode": {
    "name": "ipython",
    "version": 3
   },
   "file_extension": ".py",
   "mimetype": "text/x-python",
   "name": "python",
   "nbconvert_exporter": "python",
   "pygments_lexer": "ipython3",
   "version": "3.6.11"
  }
 },
 "nbformat": 4,
 "nbformat_minor": 4
}
