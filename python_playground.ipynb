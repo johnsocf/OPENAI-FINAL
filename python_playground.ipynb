{
 "cells": [
  {
   "cell_type": "code",
   "execution_count": 10,
   "metadata": {},
   "outputs": [
    {
     "ename": "ValueError",
     "evalue": "not enough values to unpack (expected 3, got 0)",
     "output_type": "error",
     "traceback": [
      "\u001b[0;31m---------------------------------------------------------------------------\u001b[0m",
      "\u001b[0;31mValueError\u001b[0m                                Traceback (most recent call last)",
      "\u001b[0;32m<ipython-input-10-913fd570ec07>\u001b[0m in \u001b[0;36m<module>\u001b[0;34m()\u001b[0m\n\u001b[1;32m      2\u001b[0m \u001b[0mtuple\u001b[0m\u001b[0;34m(\u001b[0m\u001b[0mx\u001b[0m\u001b[0;34m)\u001b[0m\u001b[0;34m\u001b[0m\u001b[0;34m\u001b[0m\u001b[0m\n\u001b[1;32m      3\u001b[0m \u001b[0;34m\u001b[0m\u001b[0m\n\u001b[0;32m----> 4\u001b[0;31m \u001b[0mx\u001b[0m\u001b[0;34m,\u001b[0m \u001b[0my\u001b[0m\u001b[0;34m,\u001b[0m \u001b[0mz\u001b[0m \u001b[0;34m=\u001b[0m \u001b[0;34m[\u001b[0m\u001b[0;34m]\u001b[0m\u001b[0;34m\u001b[0m\u001b[0;34m\u001b[0m\u001b[0m\n\u001b[0m",
      "\u001b[0;31mValueError\u001b[0m: not enough values to unpack (expected 3, got 0)"
     ]
    }
   ],
   "source": [
    "x = [1] + list((2, 3, 4))\n",
    "tuple(x)\n",
    "\n",
    "x, y, z = []"
   ]
  },
  {
   "cell_type": "code",
   "execution_count": 35,
   "metadata": {},
   "outputs": [
    {
     "name": "stdout",
     "output_type": "stream",
     "text": [
      "{'a': 1, 'b': True, 'c': 111}\n",
      "x (1, True, 111)\n"
     ]
    }
   ],
   "source": [
    "test_t = {\n",
    "    'a': 1,\n",
    "    'b': True,\n",
    "    'c': 111,\n",
    "}\n",
    "\n",
    "def conv_obj(test):\n",
    "    temp = []\n",
    "    print(test)\n",
    "    for i, v in enumerate(test):\n",
    "        temp.insert(len(temp), test[v])\n",
    "    return tuple(temp)\n",
    "      \n",
    "x = conv_obj(test_t)\n",
    "print('x', x)"
   ]
  },
  {
   "cell_type": "code",
   "execution_count": 43,
   "metadata": {},
   "outputs": [],
   "source": [
    "def init_config(selected_env = ''):\n",
    "    configs = {\n",
    "        'init_test_config': conv_obj({\n",
    "            'player_games': 0,\n",
    "            'episode_number': 0,\n",
    "            'epsilon': 0.001,\n",
    "        }),\n",
    "        'init_config': conv_obj({\n",
    "            # init\n",
    "            'epsilon': 1.0,\n",
    "            'total_steps': 0,\n",
    "            # Init at 0.\n",
    "            'player_game': 0,\n",
    "        }),\n",
    "        'init_metric_config': conv_obj({\n",
    "            # Initialize storage for collecting data on model performance.\n",
    "            'total_score': 0,\n",
    "            'score_interval_count': 0,\n",
    "        }),\n",
    "    }\n",
    "    return configs"
   ]
  },
  {
   "cell_type": "code",
   "execution_count": 46,
   "metadata": {},
   "outputs": [
    {
     "name": "stdout",
     "output_type": "stream",
     "text": [
      "{'player_games': 0, 'episode_number': 0, 'epsilon': 0.001}\n",
      "{'epsilon': 1.0, 'total_steps': 0, 'player_game': 0}\n",
      "{'total_score': 0, 'score_interval_count': 0}\n"
     ]
    },
    {
     "data": {
      "text/plain": [
       "(1.0, 0, 0)"
      ]
     },
     "execution_count": 46,
     "metadata": {},
     "output_type": "execute_result"
    }
   ],
   "source": [
    "x = init_config()['init_config']\n",
    "x"
   ]
  },
  {
   "cell_type": "code",
   "execution_count": null,
   "metadata": {},
   "outputs": [],
   "source": []
  }
 ],
 "metadata": {
  "kernelspec": {
   "display_name": "Python 3",
   "language": "python",
   "name": "python3"
  },
  "language_info": {
   "codemirror_mode": {
    "name": "ipython",
    "version": 3
   },
   "file_extension": ".py",
   "mimetype": "text/x-python",
   "name": "python",
   "nbconvert_exporter": "python",
   "pygments_lexer": "ipython3",
   "version": "3.6.11"
  }
 },
 "nbformat": 4,
 "nbformat_minor": 4
}
